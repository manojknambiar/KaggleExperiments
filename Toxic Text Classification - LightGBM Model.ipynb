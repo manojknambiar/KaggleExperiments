{
 "cells": [
  {
   "cell_type": "code",
   "execution_count": 120,
   "metadata": {},
   "outputs": [],
   "source": [
    "import pandas as pd\n",
    "import re\n",
    "from sklearn.feature_extraction.text import TfidfVectorizer\n",
    "import numpy as np\n",
    "from scipy.sparse import csr_matrix\n",
    "from sklearn.preprocessing import MinMaxScaler\n",
    "import lightgbm as lgb\n",
    "from sklearn.model_selection import KFold\n",
    "from sklearn.metrics import roc_auc_score\n",
    "import gc\n",
    "from scipy.sparse import hstack\n",
    "from collections import defaultdict"
   ]
  },
  {
   "cell_type": "code",
   "execution_count": 92,
   "metadata": {},
   "outputs": [],
   "source": [
    "data_train = pd.read_csv(\"train.csv\")\n",
    "data_test = pd.read_csv(\"test.csv\")"
   ]
  },
  {
   "cell_type": "code",
   "execution_count": 4,
   "metadata": {},
   "outputs": [],
   "source": [
    "pd.options.display.max_colwidth = 9000"
   ]
  },
  {
   "cell_type": "code",
   "execution_count": 121,
   "metadata": {},
   "outputs": [],
   "source": [
    "predictClasses = [ u'toxic', u'severe_toxic', u'obscene',\n",
    "       u'threat', u'insult', u'identity_hate']"
   ]
  },
  {
   "cell_type": "code",
   "execution_count": 93,
   "metadata": {},
   "outputs": [],
   "source": [
    "replacement_patterns = [\n",
    "  (r'won\\'t', 'will not'),\n",
    "  (r'can\\'t', 'cannot'),\n",
    "  (r'don\\'t', 'do not'),\n",
    "  (r'i\\'m', 'i am'),\n",
    "  (r'ain\\'t', 'is not'),\n",
    "  (r'(\\w+)\\'ll', '\\g<1> will'),\n",
    "  (r'(\\w+)n\\'t', '\\g<1> not'),\n",
    "  (r'(\\w+)\\'ve', '\\g<1> have'),\n",
    "  (r'(\\w+)\\'s', '\\g<1> is'),\n",
    "  (r'(\\w+)\\'re', '\\g<1> are'),\n",
    "  (r'(\\w+)\\'d', '\\g<1> would')\n",
    "]\n",
    "patterns = [(re.compile(regex), repl) for (regex, repl) in replacement_patterns]"
   ]
  },
  {
   "cell_type": "code",
   "execution_count": 100,
   "metadata": {},
   "outputs": [],
   "source": [
    "def cleanup(s):\n",
    "    # Replace Contractions\n",
    "    \n",
    "    for (reg,rep) in patterns:\n",
    "        \n",
    "        cleaned = re.sub(reg,rep,s.lower())\n",
    "    \n",
    "    # Remove numbers,?,\\n ,\",: and -\n",
    "    cleaned = re.sub('[\\d|/\\n|/\"|/:|/-]+',\" \",cleaned)\n",
    "    # Remove . and comma\n",
    "    cleaned = re.sub(\"[/.|/,|/=]+\",\" \",cleaned)\n",
    "    return cleaned.strip()\n",
    "\n",
    "data_train['comment_text'] = data_train['comment_text'].map(cleanup)\n",
    "data_test['comment_text'] = data_test['comment_text'].map(cleanup)"
   ]
  },
  {
   "cell_type": "code",
   "execution_count": 103,
   "metadata": {},
   "outputs": [],
   "source": [
    "master_comment_data = pd.concat([data_train['comment_text'],data_test['comment_text']])"
   ]
  },
  {
   "cell_type": "code",
   "execution_count": 104,
   "metadata": {},
   "outputs": [
    {
     "data": {
      "text/plain": [
       "312735"
      ]
     },
     "execution_count": 104,
     "metadata": {},
     "output_type": "execute_result"
    }
   ],
   "source": [
    "len(master_comment_data)"
   ]
  },
  {
   "cell_type": "code",
   "execution_count": 106,
   "metadata": {},
   "outputs": [
    {
     "data": {
      "text/plain": [
       "TfidfVectorizer(analyzer='word', binary=False, decode_error=u'strict',\n",
       "        dtype=<type 'numpy.int64'>, encoding=u'utf-8', input=u'content',\n",
       "        lowercase=True, max_df=1.0, max_features=20000, min_df=1,\n",
       "        ngram_range=(1, 2), norm=u'l2', preprocessor=None, smooth_idf=True,\n",
       "        stop_words='english', strip_accents='unicode', sublinear_tf=True,\n",
       "        token_pattern='\\\\w{1,}', tokenizer=None, use_idf=True,\n",
       "        vocabulary=None)"
      ]
     },
     "execution_count": 106,
     "metadata": {},
     "output_type": "execute_result"
    }
   ],
   "source": [
    "word_vectorizer = TfidfVectorizer(\n",
    "            sublinear_tf=True,\n",
    "            strip_accents='unicode',\n",
    "            analyzer='word',\n",
    "            token_pattern=r'\\w{1,}',\n",
    "            stop_words='english',\n",
    "            ngram_range=(1, 2),\n",
    "            max_features=20000)\n",
    "word_vectorizer.fit(master_comment_data)"
   ]
  },
  {
   "cell_type": "code",
   "execution_count": 108,
   "metadata": {},
   "outputs": [],
   "source": [
    "train_word_features = word_vectorizer.transform(data_train['comment_text'])\n",
    "test_word_features = word_vectorizer.transform(data_test['comment_text'])"
   ]
  },
  {
   "cell_type": "code",
   "execution_count": 145,
   "metadata": {},
   "outputs": [
    {
     "data": {
      "text/plain": [
       "TfidfVectorizer(analyzer='char', binary=False, decode_error=u'strict',\n",
       "        dtype=<type 'numpy.int64'>, encoding=u'utf-8', input=u'content',\n",
       "        lowercase=True, max_df=1.0, max_features=50000, min_df=1,\n",
       "        ngram_range=(2, 6), norm=u'l2', preprocessor=None, smooth_idf=True,\n",
       "        stop_words='english', strip_accents='unicode', sublinear_tf=True,\n",
       "        token_pattern=u'(?u)\\\\b\\\\w\\\\w+\\\\b', tokenizer=None, use_idf=True,\n",
       "        vocabulary=None)"
      ]
     },
     "execution_count": 145,
     "metadata": {},
     "output_type": "execute_result"
    }
   ],
   "source": [
    "char_vectorizer = TfidfVectorizer(\n",
    "    sublinear_tf=True,\n",
    "    strip_accents='unicode',\n",
    "    analyzer='char',\n",
    "    stop_words='english',\n",
    "    ngram_range=(2, 6),\n",
    "    max_features=50000)\n",
    "char_vectorizer.fit(master_comment_data)"
   ]
  },
  {
   "cell_type": "code",
   "execution_count": 148,
   "metadata": {},
   "outputs": [],
   "source": [
    "train_char_features = char_vectorizer.transform(data_train['comment_text'])\n",
    "test_char_features = char_vectorizer.transform(data_test['comment_text'])"
   ]
  },
  {
   "cell_type": "code",
   "execution_count": 151,
   "metadata": {},
   "outputs": [
    {
     "name": "stdout",
     "output_type": "stream",
     "text": [
      "sss1\n"
     ]
    }
   ],
   "source": [
    "print \"sss1\""
   ]
  },
  {
   "cell_type": "code",
   "execution_count": 150,
   "metadata": {},
   "outputs": [],
   "source": [
    "csr_train = hstack(\n",
    "            [\n",
    "                train_word_features,\n",
    "                train_char_features\n",
    "            ]\n",
    "        ).tocsr()\n",
    "\n",
    "csr_test = hstack(\n",
    "            [\n",
    "                test_word_features,\n",
    "                test_char_features\n",
    "            ]\n",
    "        ).tocsr()"
   ]
  },
  {
   "cell_type": "code",
   "execution_count": 152,
   "metadata": {},
   "outputs": [],
   "source": [
    "# Set LGBM parameters\n",
    "params = {\n",
    "        \"objective\": \"binary\",\n",
    "        'metric': {'auc'},\n",
    "        \"boosting_type\": \"gbdt\",\n",
    "        \"verbosity\": -1,\n",
    "        \"num_threads\": 4,\n",
    "        \"bagging_fraction\": 0.8,\n",
    "        \"feature_fraction\": 0.8,\n",
    "        \"learning_rate\": 0.1,\n",
    "        \"num_leaves\": 31,\n",
    "        \"verbose\": -1,\n",
    "        \"min_split_gain\": .1,\n",
    "        \"reg_alpha\": .1\n",
    "    }"
   ]
  },
  {
   "cell_type": "code",
   "execution_count": null,
   "metadata": {},
   "outputs": [
    {
     "name": "stdout",
     "output_type": "stream",
     "text": [
      "class - toxic scores\n"
     ]
    }
   ],
   "source": [
    "scores = []\n",
    "class_pred = np.zeros(len(data_train))\n",
    "folds = KFold(n_splits=4, shuffle=True, random_state=1)\n",
    "lgb_round_dict = defaultdict(int)\n",
    "trn_lgbset = lgb.Dataset(csr_train, free_raw_data=False)        \n",
    "for class_name in predictClasses:\n",
    "    print \"class - {0} scores\".format(class_name)\n",
    "    train_target = data_train[class_name]\n",
    "    trn_lgbset.set_label(train_target.values)\n",
    "    lgb_rounds = 500\n",
    "    \n",
    "    for n_fold, (trn_idx, val_idx) in enumerate(folds.split(data_train, train_target)):\n",
    "            watchlist = [\n",
    "                    trn_lgbset.subset(trn_idx),\n",
    "                    trn_lgbset.subset(val_idx)\n",
    "                ]\n",
    "            # Train lgb l1\n",
    "            model = lgb.train(\n",
    "                    params=params,\n",
    "                    train_set=watchlist[0],\n",
    "                    num_boost_round=lgb_rounds,\n",
    "                    valid_sets=watchlist,\n",
    "                    early_stopping_rounds=50,\n",
    "                    verbose_eval=0\n",
    "                )\n",
    "            class_pred[val_idx] = model.predict(trn_lgbset.data[val_idx], num_iteration=model.best_iteration)\n",
    "            score = roc_auc_score(train_target.values[val_idx], class_pred[val_idx])\n",
    "                \n",
    "            # Compute mean rounds over folds for each class\n",
    "            # So that it can be re-used for test predictions\n",
    "            lgb_round_dict[class_name] += model.best_iteration\n",
    "            print(\"\\t Fold %d : %.6f in %3d rounds\" % (n_fold + 1, score, model.best_iteration))\n",
    "                   "
   ]
  },
  {
   "cell_type": "code",
   "execution_count": 138,
   "metadata": {},
   "outputs": [
    {
     "data": {
      "text/plain": [
       "0.9628734535827312"
      ]
     },
     "execution_count": 138,
     "metadata": {},
     "output_type": "execute_result"
    }
   ],
   "source": [
    "np.mean(score)"
   ]
  },
  {
   "cell_type": "code",
   "execution_count": 140,
   "metadata": {},
   "outputs": [],
   "source": [
    "submission = pd.DataFrame.from_dict({'id': data_test['id']})"
   ]
  },
  {
   "cell_type": "code",
   "execution_count": 143,
   "metadata": {},
   "outputs": [],
   "source": [
    "for class_name in predictClasses:\n",
    "    \n",
    "    train_target = data_train[class_name]\n",
    "    trn_lgbset.set_label(train_target.values)\n",
    "    # Train lgb\n",
    "    model = lgb.train(\n",
    "                    params=params,\n",
    "                    train_set=trn_lgbset,\n",
    "                    num_boost_round=int(lgb_round_dict[class_name] / folds.n_splits)\n",
    "                )\n",
    "    submission[class_name] = model.predict(csr_test, num_iteration=model.best_iteration)\n",
    "\n",
    "submission.to_csv(\"lgbm_trial1.csv\", index=False, float_format=\"%.8f\")"
   ]
  },
  {
   "cell_type": "code",
   "execution_count": 144,
   "metadata": {},
   "outputs": [
    {
     "name": "stdout",
     "output_type": "stream",
     "text": [
      "hai\n"
     ]
    }
   ],
   "source": [
    "print \"hai\""
   ]
  },
  {
   "cell_type": "code",
   "execution_count": null,
   "metadata": {},
   "outputs": [],
   "source": []
  }
 ],
 "metadata": {
  "kernelspec": {
   "display_name": "Python 2",
   "language": "python",
   "name": "python2"
  },
  "language_info": {
   "codemirror_mode": {
    "name": "ipython",
    "version": 2
   },
   "file_extension": ".py",
   "mimetype": "text/x-python",
   "name": "python",
   "nbconvert_exporter": "python",
   "pygments_lexer": "ipython2",
   "version": "2.7.14"
  }
 },
 "nbformat": 4,
 "nbformat_minor": 2
}
